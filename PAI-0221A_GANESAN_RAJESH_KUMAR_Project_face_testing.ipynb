{
 "cells": [
  {
   "cell_type": "code",
   "execution_count": 1,
   "id": "ambient-overall",
   "metadata": {},
   "outputs": [],
   "source": [
    "import numpy as np\n",
    "import os\n",
    "import cv2\n",
    "import function1 as f1\n",
    "import function2 as f2\n",
    "import function3 as f3"
   ]
  },
  {
   "cell_type": "code",
   "execution_count": 2,
   "id": "abstract-inquiry",
   "metadata": {},
   "outputs": [],
   "source": [
    "def face_prediction(Testimage,name):\n",
    "    \n",
    "    Faces_detected,GreyImg = f1.func1_getGreyImg(Testimage)\n",
    "    FaceRecogniser = cv2.face.LBPHFaceRecognizer_create()\n",
    "    FaceRecogniser.read(r\"C:\\Users\\DELL\\Documents\\PAI-0221A\\project\\face_training.yml\")\n",
    "    \n",
    "    for face in Faces_detected:\n",
    "        (x,y,w,h) = face\n",
    "        GrayImage = GreyImg[y:y+w,x:x+h]\n",
    "        label,confidence = FaceRecogniser.predict(GrayImage)\n",
    "    \n",
    "        print(\"Confidence\", confidence)\n",
    "        print(\"Label\",label)\n",
    "    \n",
    "        f4.func4_drawRect(Testimage,face)\n",
    "        predicted_name = name[label]\n",
    "    \n",
    "        #testing\n",
    "        print(\"Predicted Name:\", predicted_name)\n",
    "        #testing \n",
    "    \n",
    "        #if confidence level more than 45% continue\n",
    "        if confidence < 25:\n",
    "            continue\n",
    "        else:\n",
    "            f5.func5_updLabel(Testimage,predicted_name,x,y)\n",
    "            resizedimage = cv2.resize(Testimage,(600,500))\n",
    "        \n",
    "            #Testing outputs\n",
    "            while True:\n",
    "                cv2.imshow(\"Cropped Final Image\", resizedimage)\n",
    "                if cv2.waitKey(1) == 13:\n",
    "                    break\n",
    "            cv2.destroyAllWindows()\n",
    "        "
   ]
  },
  {
   "cell_type": "code",
   "execution_count": 6,
   "id": "molecular-latino",
   "metadata": {},
   "outputs": [
    {
     "name": "stdout",
     "output_type": "stream",
     "text": [
      "Confidence 103.81362822964522\n",
      "Label 4\n",
      "Predicted Name: Mindy Kaling\n"
     ]
    }
   ],
   "source": [
    "#Start model testing\n",
    "#func1_getGreyImg(img)\n",
    "#func2_faceDetect(img_dir)\n",
    "#func3_faceRecog(faces,faceid)\n",
    "#func4_drawRect(test_img,face)\n",
    "#func5_updLabel(test_img,text,x,y)\n",
    "\n",
    "import cv2\n",
    "import function1 as f1\n",
    "import function4 as f4\n",
    "import function5 as f5\n",
    "name = {1:\"Ben Affleck\",2:\"Elton John\",3:\"Brad Pitt\",4:\"Mindy Kaling\",5:\"Rajesh\"}\n",
    "\n",
    "#Testimage = cv2.imread(r'C:\\Users\\DELL\\Documents\\PAI-0221A\\project\\TestImage\\BenAffleck.jpg') \n",
    "#Testimage = cv2.imread(r'C:\\Users\\DELL\\Documents\\PAI-0221A\\project\\TestImage\\EltonJohn.jpg') \n",
    "#Testimage = cv2.imread(r'C:\\Users\\DELL\\Documents\\PAI-0221A\\project\\TestImage\\BradPitt.jpg') \n",
    "Testimage = cv2.imread(r'C:\\Users\\DELL\\Documents\\PAI-0221A\\project\\TestImage\\Mindy.jpg')\n",
    "#Testimage = cv2.imread(r'C:\\Users\\DELL\\Documents\\PAI-0221A\\project\\TestImage\\Rajesh.jpg')\n",
    "\n",
    "#Testimage = cv2.imread(r'C:\\Users\\DELL\\Documents\\PAI-0221A\\project\\TestImage\\Lucas.jpg') \n",
    "#Testimage = cv2.imread(r'C:\\Users\\DELL\\Documents\\PAI-0221A\\project\\TestImage\\Trump.jpg')\n",
    "#Testimage = cv2.imread(r'C:\\Users\\DELL\\Documents\\PAI-0221A\\project\\TestImage\\obama.jpg')\n",
    "#Testimage = cv2.imread(r'C:\\Users\\DELL\\Documents\\PAI-0221A\\project\\TestImage\\biden.jpg')\n",
    "\n",
    "face_prediction(Testimage,name)"
   ]
  },
  {
   "cell_type": "code",
   "execution_count": null,
   "id": "restricted-mortality",
   "metadata": {},
   "outputs": [],
   "source": []
  }
 ],
 "metadata": {
  "kernelspec": {
   "display_name": "Python 3",
   "language": "python",
   "name": "python3"
  },
  "language_info": {
   "codemirror_mode": {
    "name": "ipython",
    "version": 3
   },
   "file_extension": ".py",
   "mimetype": "text/x-python",
   "name": "python",
   "nbconvert_exporter": "python",
   "pygments_lexer": "ipython3",
   "version": "3.9.1"
  }
 },
 "nbformat": 4,
 "nbformat_minor": 5
}
